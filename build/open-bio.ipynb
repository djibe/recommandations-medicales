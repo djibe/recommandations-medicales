{
 "cells": [
  {
   "cell_type": "code",
   "execution_count": null,
   "id": "60873c47",
   "metadata": {},
   "outputs": [],
   "source": [
    "# Extract data for General Practitioners from Open Bio by djibe\n",
    "# Set CSV in root folder\n",
    "\n",
    "import os\n",
    "import pandas as pd\n",
    "import json\n",
    "\n",
    "# Charger le fichier CSV\n",
    "current_dir = os.getcwd()\n",
    "csv_path = os.path.join(current_dir, 'OPEN_BIO_2024.CSV')\n",
    "df = pd.read_csv(csv_path, sep=';', thousands='.', decimal=',')\n",
    "\n",
    "# Supprimer les lignes contenant \"forfait\" dans la colonne \"L_ACTE\"\n",
    "df = df[~df['L_ACTE'].str.contains('forfait|cotation minimale', case=False, na=False)]\n",
    "\n",
    "# Filtrer les lignes où \"PSP_SPE\" = 1\n",
    "df_filtered = df[df['PSP_SPE'] == 1]\n",
    "\n",
    "# Fusionner les lignes identiques de la colonne \"L_ACTE\" en additionnant les valeurs des colonnes \"DNB\" et \"REM\"\n",
    "df_grouped = df_filtered.groupby('L_ACTE').agg({\n",
    "    'DNB': 'sum',\n",
    "    'REM': 'sum'\n",
    "}).reset_index()\n",
    "\n",
    "# Trier le fichier par la colonne \"REM\" en ordre descendant\n",
    "df_sorted = df_grouped.sort_values(by='REM', ascending=False)\n",
    "\n",
    "# Arrondir les colonnes \"DNB\" et \"REM\" à l'entier le plus proche\n",
    "df_sorted['DNB'] = df_sorted['DNB'].round()\n",
    "df_sorted['REM'] = df_sorted['REM'].round()\n",
    "\n",
    "df_sorted['DNB'] = df_sorted['DNB'].apply(lambda x: '{:,.0f}'.format(x).replace(',', '.'))\n",
    "df_sorted['REM'] = df_sorted['REM'].apply(lambda x: '{:,.0f}'.format(x).replace(',', '.'))\n",
    "\n",
    "# Enregistrer le résultat dans un nouveau fichier CSV (optionnel)\n",
    "# df_sorted.to_csv('open-bio-filtered.csv', sep=';', encoding='utf-8', index=False)\n",
    "# df_sorted.to_json('open-bio.json', orient='records')\n",
    "# Convertir le DataFrame en dictionnaire\n",
    "data_dict = df_sorted.to_dict(orient='records')\n",
    "\n",
    "# Englober les données dans un objet \"data\"\n",
    "json_data = {\"data\": data_dict}\n",
    "\n",
    "# Enregistrer le résultat dans un fichier JSON\n",
    "with open('open-bio-2024.json', 'w', encoding='utf-8') as f:\n",
    "    json.dump(json_data, f, ensure_ascii=False, separators=(',', ':'))\n",
    "print('\\n Finished. open-bio-2024.json is available.')\n",
    "\n",
    "# Afficher le résultat\n",
    "print(df_sorted.head())"
   ]
  }
 ],
 "metadata": {
  "kernelspec": {
   "display_name": "base",
   "language": "python",
   "name": "python3"
  },
  "language_info": {
   "codemirror_mode": {
    "name": "ipython",
    "version": 3
   },
   "file_extension": ".py",
   "mimetype": "text/x-python",
   "name": "python",
   "nbconvert_exporter": "python",
   "pygments_lexer": "ipython3",
   "version": "3.12.3"
  }
 },
 "nbformat": 4,
 "nbformat_minor": 5
}
