{
 "cells": [
  {
   "cell_type": "code",
   "execution_count": 8,
   "id": "ad694e21",
   "metadata": {},
   "outputs": [
    {
     "name": "stderr",
     "output_type": "stream",
     "text": [
      "C:\\Users\\JB.DESKTOP-FOMVMTG\\AppData\\Local\\Temp\\ipykernel_37724\\3306176053.py:15: SettingWithCopyWarning: \n",
      "A value is trying to be set on a copy of a slice from a DataFrame.\n",
      "Try using .loc[row_indexer,col_indexer] = value instead\n",
      "\n",
      "See the caveats in the documentation: https://pandas.pydata.org/pandas-docs/stable/user_guide/indexing.html#returning-a-view-versus-a-copy\n",
      "  df_filtered[7] = df_filtered[7].str.replace(\n"
     ]
    },
    {
     "data": {
      "text/plain": [
       "72     medicaments/soludactone-100-mg-et-200-mg-lyoph...\n",
       "73     medicaments/soludactone-100-mg-et-200-mg-lyoph...\n",
       "224    medicaments/imogam-rage-150-ui-ml-solution-inj...\n",
       "584    medicaments/elvorine-25-mg-2-5-ml-50-mg-5-ml-1...\n",
       "585    medicaments/elvorine-25-mg-2-5-ml-50-mg-5-ml-1...\n",
       "586    medicaments/elvorine-25-mg-2-5-ml-50-mg-5-ml-1...\n",
       "587    medicaments/elvorine-25-mg-2-5-ml-50-mg-5-ml-1...\n",
       "616    medicaments/tsoludose-solution-buvable-en-reci...\n",
       "617    medicaments/tsoludose-solution-buvable-en-reci...\n",
       "618    medicaments/tsoludose-solution-buvable-en-reci...\n",
       "619    medicaments/tsoludose-solution-buvable-en-reci...\n",
       "620    medicaments/tsoludose-solution-buvable-en-reci...\n",
       "621    medicaments/tsoludose-solution-buvable-en-reci...\n",
       "622    medicaments/tsoludose-solution-buvable-en-reci...\n",
       "623    medicaments/tsoludose-solution-buvable-en-reci...\n",
       "624    medicaments/tsoludose-solution-buvable-en-reci...\n",
       "625    medicaments/tsoludose-solution-buvable-en-reci...\n",
       "626    medicaments/tsoludose-solution-buvable-en-reci...\n",
       "627    medicaments/tsoludose-solution-buvable-en-reci...\n",
       "628    medicaments/tsoludose-solution-buvable-en-reci...\n",
       "629    medicaments/tsoludose-solution-buvable-en-reci...\n",
       "630    medicaments/tsoludose-solution-buvable-en-reci...\n",
       "677    medicaments/iobenguane-131i-pour-therapie-cis-...\n",
       "679    medicaments/pediaven-ap-hp-g25-solution-pour-p...\n",
       "759    medicaments/zoryon-gelules-et-sirop-chlorhydra...\n",
       "760    medicaments/zoryon-gelules-et-sirop-chlorhydra...\n",
       "761    medicaments/zoryon-gelules-et-sirop-chlorhydra...\n",
       "762    medicaments/zoryon-gelules-et-sirop-chlorhydra...\n",
       "763    medicaments/zoryon-gelules-et-sirop-chlorhydra...\n",
       "764    medicaments/zoryon-gelules-et-sirop-chlorhydra...\n",
       "765    medicaments/zoryon-gelules-et-sirop-chlorhydra...\n",
       "766    medicaments/zoryon-gelules-et-sirop-chlorhydra...\n",
       "770    medicaments/ydralbum-200-g-l-solution-pour-per...\n",
       "771    medicaments/ydralbum-200-g-l-solution-pour-per...\n",
       "774    medicaments/ribarivine-biogaran-200-mg-400-mg-...\n",
       "775    medicaments/ribarivine-biogaran-200-mg-400-mg-...\n",
       "776    medicaments/heparine-choay-25-000-ui-5-ml-solu...\n",
       "854    medicaments/ancotil-1-pour-cent-solution-pour-...\n",
       "855    medicaments/arsenic-trioxide-mylan-1-mg-ml-sol...\n",
       "857    vaccins/revaxis-suspension-injectable-en-serin...\n",
       "858    vaccins/zostavax-poudre-et-solvant-pour-suspen...\n",
       "896    medicaments/integrilin-0-75-mg-ml-et-2-mg-ml-s...\n",
       "897    medicaments/integrilin-0-75-mg-ml-et-2-mg-ml-s...\n",
       "900    medicaments/acadione-250-mg-comprime-drageifie...\n",
       "901    medicaments/digidot-80mg-poudre-pour-solution-...\n",
       "979    medicaments/minirin-0-1-mg-ml-solution-pour-ad...\n",
       "Name: 7, dtype: object"
      ]
     },
     "execution_count": 8,
     "metadata": {},
     "output_type": "execute_result"
    }
   ],
   "source": [
    "# Print medications that soon will be removed from market\n",
    "\n",
    "import pandas as pd\n",
    "\n",
    "# URL du fichier\n",
    "url = \"https://base-donnees-publique.medicaments.gouv.fr/download/file/CIS_CIP_Dispo_Spec.txt\"\n",
    "\n",
    "# Lecture du fichier (CSV, séparateur = tabulation, encodage Windows-1252)\n",
    "df = pd.read_csv(url, sep=\"\\t\", encoding=\"windows-1252\", header=None)\n",
    "\n",
    "# Filtrer les lignes où la 4e colonne vaut \"Arrêt de commercialisation\"\n",
    "df_filtered = df[df[3] == \"Arrêt de commercialisation\"]\n",
    "\n",
    "# Afficher les premières lignes filtrées\n",
    "df_filtered[7] = df_filtered[7].str.replace(\n",
    "    \"https://ansm.sante.fr/disponibilites-des-produits-de-sante/\", \n",
    "    \"\", \n",
    "    regex=False\n",
    ")\n",
    "df_filtered[7]\n"
   ]
  }
 ],
 "metadata": {
  "kernelspec": {
   "display_name": "base",
   "language": "python",
   "name": "python3"
  },
  "language_info": {
   "codemirror_mode": {
    "name": "ipython",
    "version": 3
   },
   "file_extension": ".py",
   "mimetype": "text/x-python",
   "name": "python",
   "nbconvert_exporter": "python",
   "pygments_lexer": "ipython3",
   "version": "3.12.3"
  }
 },
 "nbformat": 4,
 "nbformat_minor": 5
}
