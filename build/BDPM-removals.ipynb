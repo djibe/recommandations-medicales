{
 "cells": [
  {
   "cell_type": "code",
   "execution_count": null,
   "id": "ad694e21",
   "metadata": {},
   "outputs": [],
   "source": [
    "# Print medications that soon will be removed from market\n",
    "\n",
    "import pandas as pd\n",
    "\n",
    "# URL du fichier\n",
    "url = \"https://base-donnees-publique.medicaments.gouv.fr/download/file/CIS_CIP_Dispo_Spec.txt\"\n",
    "\n",
    "# Lecture du fichier (CSV, séparateur = tabulation, encodage Windows-1252)\n",
    "df = pd.read_csv(url, sep=\"\\t\", encoding=\"windows-1252\", header=None)\n",
    "\n",
    "# Filtrer les lignes où la 4e colonne vaut \"Arrêt de commercialisation\"\n",
    "df_filtered = df[df[3] == \"Arrêt de commercialisation\"]\n",
    "\n",
    "# Afficher les premières lignes filtrées\n",
    "df_filtered[7] = df_filtered[7].str.replace(\n",
    "    \"https://ansm.sante.fr/disponibilites-des-produits-de-sante/\", \n",
    "    \"\", \n",
    "    regex=False\n",
    ")\n",
    "df_filtered[7]\n"
   ]
  }
 ],
 "metadata": {
  "kernelspec": {
   "display_name": "base",
   "language": "python",
   "name": "python3"
  },
  "language_info": {
   "codemirror_mode": {
    "name": "ipython",
    "version": 3
   },
   "file_extension": ".py",
   "mimetype": "text/x-python",
   "name": "python",
   "nbconvert_exporter": "python",
   "pygments_lexer": "ipython3",
   "version": "3.12.3"
  }
 },
 "nbformat": 4,
 "nbformat_minor": 5
}
