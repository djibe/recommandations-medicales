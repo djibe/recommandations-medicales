{
 "cells": [
  {
   "cell_type": "code",
   "execution_count": null,
   "id": "e767cd0c",
   "metadata": {},
   "outputs": [],
   "source": [
    "import os\n",
    "import re\n",
    "from collections import defaultdict\n",
    "\n",
    "# Chemin vers le dossier \"public\"\n",
    "public_dir = os.path.join(os.getcwd(), 'public')\n",
    "\n",
    "# Expression régulière pour trouver les URLs commençant par https\n",
    "href_pattern = re.compile(r'https://[^\"/]+')\n",
    "\n",
    "# Dictionnaire pour stocker les occurrences des domaines\n",
    "domain_counts = defaultdict(int)\n",
    "\n",
    "# Parcourir tous les fichiers dans le dossier \"public\" et ses sous-dossiers\n",
    "for root, dirs, files in os.walk(public_dir):\n",
    "    for file in files:\n",
    "        if file.endswith('.html'):\n",
    "            file_path = os.path.join(root, file)\n",
    "            try:\n",
    "                with open(file_path, 'r', encoding='utf-8') as f:\n",
    "                    content = f.read()\n",
    "                    # Trouver toutes les URLs dans le contenu\n",
    "                    urls = href_pattern.findall(content)\n",
    "                    # Extraire les domaines et compter les occurrences\n",
    "                    for url in urls:\n",
    "                        domain = url.split('/')[2]\n",
    "                        domain_counts[domain] += 1\n",
    "            except Exception as e:\n",
    "                print(f\"Erreur lors de la lecture du fichier {file_path}: {e}\")\n",
    "\n",
    "# Trier les domaines par nombre d'occurrences décroissant\n",
    "sorted_domains = sorted(domain_counts.items(), key=lambda x: x[1], reverse=True)\n",
    "sorted_domains"
   ]
  }
 ],
 "metadata": {
  "kernelspec": {
   "display_name": "base",
   "language": "python",
   "name": "python3"
  },
  "language_info": {
   "codemirror_mode": {
    "name": "ipython",
    "version": 3
   },
   "file_extension": ".py",
   "mimetype": "text/x-python",
   "name": "python",
   "nbconvert_exporter": "python",
   "pygments_lexer": "ipython3",
   "version": "3.12.3"
  }
 },
 "nbformat": 4,
 "nbformat_minor": 5
}
