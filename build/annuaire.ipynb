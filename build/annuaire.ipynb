{
 "cells": [
  {
   "cell_type": "markdown",
   "id": "e7696abf",
   "metadata": {},
   "source": [
    "https://ansforge.github.io/annuaire-sante-fhir-documentation/pages/guide/version-1/getting-started/get-api-key.html"
   ]
  },
  {
   "cell_type": "code",
   "execution_count": null,
   "id": "29ca1f69",
   "metadata": {},
   "outputs": [],
   "source": [
    "import pandas as pd\n",
    "import os\n",
    "import glob\n",
    "import requests\n",
    "from datetime import datetime, timedelta\n",
    "import zipfile\n",
    "import io\n",
    "\n",
    "# 1. Construis la variable date_file à aujourd'hui au format: YYYYMMDD, et accole la date de demain au format MMDD\n",
    "today = datetime.now()\n",
    "tomorrow = today + timedelta(days=1)\n",
    "date_file = today.strftime('%Y%m%d') + tomorrow.strftime('%m%d')\n",
    "\n",
    "# 2. Télécharge le fichier zip\n",
    "print('Téléchargement du fichier: ' + date_file)\n",
    "url = f\"https://annuaire.sante.fr/web/site-pro/extractions-publiques?p_p_id=abonnementportlet_WAR_Inscriptionportlet_INSTANCE_gGMT6fhOPMYV&p_p_lifecycle=2&p_p_state=normal&p_p_mode=view&p_p_cacheability=cacheLevelPage&_abonnementportlet_WAR_Inscriptionportlet_INSTANCE_gGMT6fhOPMYV_nomFichier=PS_LibreAcces_{date_file}.zip\"\n",
    "\n",
    "# try:\n",
    "#     response = requests.get(url)\n",
    "#     response.raise_for_status()  # Lève une exception si la requête a échoué\n",
    "#     zip_file = zipfile.ZipFile(io.BytesIO(response.content))\n",
    "#     print(f\"Le fichier ZIP a été téléchargé avec succès : {url}\")\n",
    "# except requests.exceptions.HTTPError as err:\n",
    "#     print(f\"Erreur HTTP: {err}\")\n",
    "#     print(\"Veuillez vérifier l'URL ou le format de la date.\")\n",
    "#     exit()\n",
    "\n",
    "# 3. Extrais l'archive zip dans le répertoire courant\n",
    "# zip_file.extractall()\n",
    "# print(\"L'archive ZIP a été extraite.\")\n",
    "\n",
    "# 4. Ouvre le fichier texte comme un CSV\n",
    "file_path = glob.glob(\"PS_LibreAcces_Personne_activite_*.txt\")[0]\n",
    "df = pd.read_csv(file_path, sep='|', encoding='utf-8', on_bad_lines='skip', dtype=str)\n",
    "\n",
    "# 5.  Ne charge que les lignes dont la colonne Code profession vaut 10 (= Médecin)\n",
    "# df = df[df.iloc[:, 9] == 10]\n",
    "df = df[df['Code profession'] == '10']\n",
    "\n",
    "# 6. Enregistre au format CSV, séparateur \";\", les colonnes spécifiées\n",
    "# Sélection des colonnes par leur indice (la 2e est à l'indice 1, etc.)\n",
    "colonnes_a_garder = [1, 3, 5, 7, 8, 16, 17, 24, 26, 28, 29, 31, 32, 35, 37, 40, 42]\n",
    "df_final = df.iloc[:, colonnes_a_garder]\n",
    "df_final.to_csv('annuaire-medecins.csv', sep=';', index=False, encoding='utf-8')\n",
    "print(\"Le fichier annuaire-medecins.csv a été créé avec succès.\")\n",
    "\n",
    "# Nettoyage\n",
    "motif_de_recherche = \"PS_LibreAcces*\"\n",
    "fichiers_a_effacer = glob.glob(motif_de_recherche)\n",
    "\n",
    "# Vérifier si des fichiers ont été trouvés avant de continuer\n",
    "if not fichiers_a_effacer:\n",
    "    print(\"Aucun fichier commençant par 'PS_LibreAcces' n'a été trouvé.\")\n",
    "else:\n",
    "    print(f\"Les fichiers suivants vont être effacés :\")\n",
    "    for fichier in fichiers_a_effacer:\n",
    "        print(f\"- {fichier}\")\n",
    "    \n",
    "    # Parcourir la liste et effacer chaque fichier\n",
    "    for fichier in fichiers_a_effacer:\n",
    "        try:\n",
    "            os.remove(fichier)\n",
    "            print(f\"Fichier '{fichier}' effacé avec succès.\")\n",
    "        except OSError as e:\n",
    "            print(f\"Erreur lors de l'effacement du fichier '{fichier}': {e}\")\n",
    "    \n",
    "    print(\"\\nOpération terminée.\")"
   ]
  }
 ],
 "metadata": {
  "kernelspec": {
   "display_name": "base",
   "language": "python",
   "name": "python3"
  },
  "language_info": {
   "codemirror_mode": {
    "name": "ipython",
    "version": 3
   },
   "file_extension": ".py",
   "mimetype": "text/x-python",
   "name": "python",
   "nbconvert_exporter": "python",
   "pygments_lexer": "ipython3",
   "version": "3.12.3"
  }
 },
 "nbformat": 4,
 "nbformat_minor": 5
}
